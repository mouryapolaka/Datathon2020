{
 "cells": [
  {
   "cell_type": "code",
   "execution_count": 1,
   "metadata": {
    "colab": {
     "base_uri": "https://localhost:8080/",
     "height": 51
    },
    "id": "mpZ-yWi4tR2-",
    "outputId": "f932c8dd-426f-43cc-ce4d-4a0b38067764"
   },
   "outputs": [
    {
     "name": "stderr",
     "output_type": "stream",
     "text": [
      "[nltk_data] Downloading package stopwords to\n",
      "[nltk_data]     /Users/mourya/nltk_data...\n",
      "[nltk_data]   Package stopwords is already up-to-date!\n"
     ]
    }
   ],
   "source": [
    "import nltk\n",
    "nltk.download('stopwords')\n",
    "from nltk.corpus import stopwords\n",
    "import string\n",
    "import re\n",
    "from bs4 import BeautifulSoup"
   ]
  },
  {
   "cell_type": "code",
   "execution_count": null,
   "metadata": {
    "colab": {
     "base_uri": "https://localhost:8080/",
     "height": 34
    },
    "id": "Gi598s05oUjC",
    "outputId": "a0f6cd8f-2b24-42b4-f65a-174747034a75"
   },
   "outputs": [
    {
     "name": "stdout",
     "output_type": "stream",
     "text": [
      "Mounted at /content/drive\n"
     ]
    }
   ],
   "source": [
    "from google.colab import drive\n",
    "drive.mount('/content/drive')"
   ]
  },
  {
   "cell_type": "markdown",
   "metadata": {
    "id": "bYIN-9eq-pbI"
   },
   "source": [
    "# EDA"
   ]
  },
  {
   "cell_type": "code",
   "execution_count": 2,
   "metadata": {
    "colab": {
     "base_uri": "https://localhost:8080/",
     "height": 462
    },
    "id": "VPWFiRP0pXtL",
    "outputId": "0a67f918-f324-47fd-d514-d8704b36df01"
   },
   "outputs": [
    {
     "data": {
      "text/html": [
       "<div>\n",
       "<style scoped>\n",
       "    .dataframe tbody tr th:only-of-type {\n",
       "        vertical-align: middle;\n",
       "    }\n",
       "\n",
       "    .dataframe tbody tr th {\n",
       "        vertical-align: top;\n",
       "    }\n",
       "\n",
       "    .dataframe thead th {\n",
       "        text-align: right;\n",
       "    }\n",
       "</style>\n",
       "<table border=\"1\" class=\"dataframe\">\n",
       "  <thead>\n",
       "    <tr style=\"text-align: right;\">\n",
       "      <th></th>\n",
       "      <th>pageurl</th>\n",
       "      <th>crawl_timestamp</th>\n",
       "      <th>job_title</th>\n",
       "      <th>category</th>\n",
       "      <th>company_name</th>\n",
       "      <th>city</th>\n",
       "      <th>post_date</th>\n",
       "      <th>job_description</th>\n",
       "      <th>job_type</th>\n",
       "      <th>job_board</th>\n",
       "      <th>geo</th>\n",
       "      <th>state</th>\n",
       "      <th>salary_offered</th>\n",
       "    </tr>\n",
       "  </thead>\n",
       "  <tbody>\n",
       "    <tr>\n",
       "      <td>0</td>\n",
       "      <td>https://www.seek.com.au/job/36028685</td>\n",
       "      <td>2018-04-20 03:57:04 +0000</td>\n",
       "      <td>Package Lead - Pipeline Installation</td>\n",
       "      <td>Mining, Resources &amp; Energy</td>\n",
       "      <td>FIRCROFT AUSTRALIA PTY LTD</td>\n",
       "      <td>Perth</td>\n",
       "      <td>2018-04-19T05:41:52Z</td>\n",
       "      <td>The Role: General Execution Accountable for sa...</td>\n",
       "      <td>Contract/Temp</td>\n",
       "      <td>seek</td>\n",
       "      <td>AU</td>\n",
       "      <td>NaN</td>\n",
       "      <td>NaN</td>\n",
       "    </tr>\n",
       "    <tr>\n",
       "      <td>1</td>\n",
       "      <td>https://www.seek.com.au/job/36028693</td>\n",
       "      <td>2018-04-20 03:52:46 +0000</td>\n",
       "      <td>Department Manager - Bakery - Campbelltown Region</td>\n",
       "      <td>Retail &amp; Consumer Products</td>\n",
       "      <td>Coles</td>\n",
       "      <td>Sydney</td>\n",
       "      <td>2018-04-19T05:42:19Z</td>\n",
       "      <td>The role As a Coles Bakery Manager you will: w...</td>\n",
       "      <td>Full Time</td>\n",
       "      <td>seek</td>\n",
       "      <td>AU</td>\n",
       "      <td>South West &amp; M5 Corridor</td>\n",
       "      <td>NaN</td>\n",
       "    </tr>\n",
       "    <tr>\n",
       "      <td>2</td>\n",
       "      <td>https://www.seek.com.au/job/36027858</td>\n",
       "      <td>2018-04-20 04:12:01 +0000</td>\n",
       "      <td>Freight Handler</td>\n",
       "      <td>Manufacturing, Transport &amp; Logistics</td>\n",
       "      <td>Zoom Recruitment &amp; Training</td>\n",
       "      <td>Sydney</td>\n",
       "      <td>2018-04-19T04:51:51Z</td>\n",
       "      <td>Our client is a leader within the Transport / ...</td>\n",
       "      <td>Casual/Vacation</td>\n",
       "      <td>seek</td>\n",
       "      <td>AU</td>\n",
       "      <td>Parramatta &amp; Western Suburbs</td>\n",
       "      <td>$34 - $39 p.h.</td>\n",
       "    </tr>\n",
       "    <tr>\n",
       "      <td>3</td>\n",
       "      <td>https://www.seek.com.au/job/36028687</td>\n",
       "      <td>2018-04-20 03:51:23 +0000</td>\n",
       "      <td>Warehouse Assistant</td>\n",
       "      <td>Manufacturing, Transport &amp; Logistics</td>\n",
       "      <td>Private Advertiser</td>\n",
       "      <td>Bundaberg &amp; Wide Bay Burnett</td>\n",
       "      <td>2018-04-19T05:42:02Z</td>\n",
       "      <td>One of our Clients is looking for a Warehouse ...</td>\n",
       "      <td>Full Time</td>\n",
       "      <td>seek</td>\n",
       "      <td>AU</td>\n",
       "      <td>NaN</td>\n",
       "      <td>NaN</td>\n",
       "    </tr>\n",
       "    <tr>\n",
       "      <td>4</td>\n",
       "      <td>https://www.seek.com.au/job/36026414</td>\n",
       "      <td>2018-04-20 04:14:42 +0000</td>\n",
       "      <td>HR Truck Subcontractors</td>\n",
       "      <td>Manufacturing, Transport &amp; Logistics</td>\n",
       "      <td>Sands Fridge Lines</td>\n",
       "      <td>Perth</td>\n",
       "      <td>2018-04-19T03:22:40Z</td>\n",
       "      <td>Sands Fridge Lines WA is seeking Subcontractor...</td>\n",
       "      <td>Contract/Temp</td>\n",
       "      <td>seek</td>\n",
       "      <td>AU</td>\n",
       "      <td>NaN</td>\n",
       "      <td>NaN</td>\n",
       "    </tr>\n",
       "  </tbody>\n",
       "</table>\n",
       "</div>"
      ],
      "text/plain": [
       "                                pageurl            crawl_timestamp  \\\n",
       "0  https://www.seek.com.au/job/36028685  2018-04-20 03:57:04 +0000   \n",
       "1  https://www.seek.com.au/job/36028693  2018-04-20 03:52:46 +0000   \n",
       "2  https://www.seek.com.au/job/36027858  2018-04-20 04:12:01 +0000   \n",
       "3  https://www.seek.com.au/job/36028687  2018-04-20 03:51:23 +0000   \n",
       "4  https://www.seek.com.au/job/36026414  2018-04-20 04:14:42 +0000   \n",
       "\n",
       "                                           job_title  \\\n",
       "0               Package Lead - Pipeline Installation   \n",
       "1  Department Manager - Bakery - Campbelltown Region   \n",
       "2                                    Freight Handler   \n",
       "3                                Warehouse Assistant   \n",
       "4                            HR Truck Subcontractors   \n",
       "\n",
       "                               category                 company_name  \\\n",
       "0            Mining, Resources & Energy   FIRCROFT AUSTRALIA PTY LTD   \n",
       "1            Retail & Consumer Products                        Coles   \n",
       "2  Manufacturing, Transport & Logistics  Zoom Recruitment & Training   \n",
       "3  Manufacturing, Transport & Logistics           Private Advertiser   \n",
       "4  Manufacturing, Transport & Logistics           Sands Fridge Lines   \n",
       "\n",
       "                           city             post_date  \\\n",
       "0                         Perth  2018-04-19T05:41:52Z   \n",
       "1                        Sydney  2018-04-19T05:42:19Z   \n",
       "2                        Sydney  2018-04-19T04:51:51Z   \n",
       "3  Bundaberg & Wide Bay Burnett  2018-04-19T05:42:02Z   \n",
       "4                         Perth  2018-04-19T03:22:40Z   \n",
       "\n",
       "                                     job_description         job_type  \\\n",
       "0  The Role: General Execution Accountable for sa...    Contract/Temp   \n",
       "1  The role As a Coles Bakery Manager you will: w...        Full Time   \n",
       "2  Our client is a leader within the Transport / ...  Casual/Vacation   \n",
       "3  One of our Clients is looking for a Warehouse ...        Full Time   \n",
       "4  Sands Fridge Lines WA is seeking Subcontractor...    Contract/Temp   \n",
       "\n",
       "  job_board geo                         state  salary_offered  \n",
       "0      seek  AU                           NaN             NaN  \n",
       "1      seek  AU      South West & M5 Corridor             NaN  \n",
       "2      seek  AU  Parramatta & Western Suburbs  $34 - $39 p.h.  \n",
       "3      seek  AU                           NaN             NaN  \n",
       "4      seek  AU                           NaN             NaN  "
      ]
     },
     "execution_count": 2,
     "metadata": {},
     "output_type": "execute_result"
    }
   ],
   "source": [
    "import pandas as pd\n",
    "df = pd.read_csv('seek_df.csv')\n",
    "df.head()"
   ]
  },
  {
   "cell_type": "code",
   "execution_count": 3,
   "metadata": {
    "colab": {
     "base_uri": "https://localhost:8080/",
     "height": 34
    },
    "id": "iZbACMNEpnJv",
    "outputId": "acdb1759-a439-4983-a45e-0232419f0720"
   },
   "outputs": [
    {
     "data": {
      "text/plain": [
       "(20030, 13)"
      ]
     },
     "execution_count": 3,
     "metadata": {},
     "output_type": "execute_result"
    }
   ],
   "source": [
    "df.shape"
   ]
  },
  {
   "cell_type": "code",
   "execution_count": 4,
   "metadata": {
    "colab": {
     "base_uri": "https://localhost:8080/",
     "height": 255
    },
    "id": "Lf4lA4CApqTX",
    "outputId": "f141c9a5-a846-4715-84e9-ccf3ed08a701"
   },
   "outputs": [
    {
     "data": {
      "text/plain": [
       "pageurl                0\n",
       "crawl_timestamp        0\n",
       "job_title              0\n",
       "category               0\n",
       "company_name           0\n",
       "city                   0\n",
       "post_date              0\n",
       "job_description    15305\n",
       "job_type               0\n",
       "job_board              0\n",
       "geo                    0\n",
       "state               6544\n",
       "salary_offered     14286\n",
       "dtype: int64"
      ]
     },
     "execution_count": 4,
     "metadata": {},
     "output_type": "execute_result"
    }
   ],
   "source": [
    "#check for missing values\n",
    "df.isnull().sum()"
   ]
  },
  {
   "cell_type": "code",
   "execution_count": 5,
   "metadata": {
    "colab": {
     "base_uri": "https://localhost:8080/",
     "height": 544
    },
    "id": "CAYpk-O38XIQ",
    "outputId": "d851738d-0e0e-4aa4-c6ca-ea5bdb4ac324"
   },
   "outputs": [
    {
     "data": {
      "text/plain": [
       "Trades & Services                         2056\n",
       "Information & Communication Technology    1911\n",
       "Healthcare & Medical                      1535\n",
       "Manufacturing, Transport & Logistics      1523\n",
       "Administration & Office Support           1250\n",
       "Hospitality & Tourism                     1141\n",
       "Accounting                                1084\n",
       "Sales                                      961\n",
       "Construction                               894\n",
       "Government & Defence                       810\n",
       "Retail & Consumer Products                 766\n",
       "Education & Training                       723\n",
       "Engineering                                665\n",
       "Call Centre & Customer Service             534\n",
       "Community Services & Development           526\n",
       "Mining, Resources & Energy                 492\n",
       "Banking & Financial Services               468\n",
       "Marketing & Communications                 461\n",
       "Human Resources & Recruitment              448\n",
       "Legal                                      385\n",
       "Real Estate & Property                     352\n",
       "Design & Architecture                      247\n",
       "Consulting & Strategy                      139\n",
       "Insurance & Superannuation                 133\n",
       "Science & Technology                       108\n",
       "Sport & Recreation                         108\n",
       "Farming, Animals & Conservation            108\n",
       "Advertising, Arts & Media                  104\n",
       "CEO & General Management                    82\n",
       "Self Employment                             16\n",
       "Name: category, dtype: int64"
      ]
     },
     "execution_count": 5,
     "metadata": {},
     "output_type": "execute_result"
    }
   ],
   "source": [
    "df[\"category\"].value_counts()"
   ]
  },
  {
   "cell_type": "code",
   "execution_count": 6,
   "metadata": {
    "colab": {
     "base_uri": "https://localhost:8080/",
     "height": 34
    },
    "id": "dijgQklHqP4d",
    "outputId": "38854c09-4dbd-4c21-8a27-4de37ebd7882"
   },
   "outputs": [
    {
     "name": "stdout",
     "output_type": "stream",
     "text": [
      "Unique values in job_type column: ['Contract/Temp' 'Full Time' 'Casual/Vacation' 'Part Time']\n"
     ]
    }
   ],
   "source": [
    "print(\"Unique values in job_type column:\", df['job_type'].unique())"
   ]
  },
  {
   "cell_type": "code",
   "execution_count": 7,
   "metadata": {
    "id": "-u5bM2eTAN-y"
   },
   "outputs": [],
   "source": [
    "#new_df contains all the rows without the missing values from job_description\n",
    "new_df = df[df['job_description'].notna()]"
   ]
  },
  {
   "cell_type": "code",
   "execution_count": 8,
   "metadata": {
    "colab": {
     "base_uri": "https://localhost:8080/",
     "height": 34
    },
    "id": "WgZMeQiFAeQl",
    "outputId": "eee1fe32-174c-4042-b0e5-406adbee0225"
   },
   "outputs": [
    {
     "data": {
      "text/plain": [
       "(4725, 13)"
      ]
     },
     "execution_count": 8,
     "metadata": {},
     "output_type": "execute_result"
    }
   ],
   "source": [
    "new_df.shape"
   ]
  },
  {
   "cell_type": "code",
   "execution_count": 9,
   "metadata": {
    "colab": {
     "base_uri": "https://localhost:8080/",
     "height": 544
    },
    "id": "-0E0v03FBvfF",
    "outputId": "018acbe2-c7d5-44ca-fc7d-4d5499ca14b0"
   },
   "outputs": [
    {
     "data": {
      "text/plain": [
       "Trades & Services                         487\n",
       "Information & Communication Technology    438\n",
       "Healthcare & Medical                      388\n",
       "Manufacturing, Transport & Logistics      354\n",
       "Administration & Office Support           305\n",
       "Sales                                     240\n",
       "Accounting                                232\n",
       "Hospitality & Tourism                     228\n",
       "Construction                              197\n",
       "Retail & Consumer Products                196\n",
       "Education & Training                      171\n",
       "Engineering                               165\n",
       "Community Services & Development          164\n",
       "Government & Defence                      163\n",
       "Call Centre & Customer Service            121\n",
       "Banking & Financial Services              120\n",
       "Mining, Resources & Energy                118\n",
       "Human Resources & Recruitment             103\n",
       "Marketing & Communications                103\n",
       "Real Estate & Property                     99\n",
       "Legal                                      85\n",
       "Design & Architecture                      60\n",
       "Insurance & Superannuation                 40\n",
       "Advertising, Arts & Media                  32\n",
       "Sport & Recreation                         30\n",
       "Farming, Animals & Conservation            24\n",
       "Consulting & Strategy                      22\n",
       "Science & Technology                       22\n",
       "CEO & General Management                   17\n",
       "Self Employment                             1\n",
       "Name: category, dtype: int64"
      ]
     },
     "execution_count": 9,
     "metadata": {},
     "output_type": "execute_result"
    }
   ],
   "source": [
    "new_df[\"category\"].value_counts()"
   ]
  },
  {
   "cell_type": "code",
   "execution_count": 10,
   "metadata": {
    "id": "nFIFdMCwBEm1"
   },
   "outputs": [],
   "source": [
    "#df[\"job_description\"].fillna(\"No_Description\", inplace = True)"
   ]
  },
  {
   "cell_type": "markdown",
   "metadata": {
    "id": "3qGIEotNth1W"
   },
   "source": [
    "# Helper Functions"
   ]
  },
  {
   "cell_type": "code",
   "execution_count": 11,
   "metadata": {
    "colab": {
     "base_uri": "https://localhost:8080/",
     "height": 54
    },
    "id": "SelH2eCV1cdJ",
    "outputId": "e222ecf3-0722-48d9-e594-1030258d8383"
   },
   "outputs": [
    {
     "name": "stdout",
     "output_type": "stream",
     "text": [
      "{'shan', 'all', 'is', \"don't\", 'which', 'your', 'off', 'was', 'hers', 'had', 'through', \"won't\", 'weren', 'over', 'on', 'by', 'why', 'mightn', 'the', 'then', 'same', 'were', 'wasn', 'between', 'd', 'mustn', 'those', 'these', 'll', 'doesn', 'for', 'yours', 't', 'his', 'are', 'until', 'an', 'some', 'their', 'both', 'wouldn', 'only', 'will', 'after', 'in', \"isn't\", 'nor', 'other', 'under', \"couldn't\", 'has', 'but', 'before', 'here', 're', \"shan't\", 'am', 'as', 'now', 'most', 'don', 'should', 'that', 'hadn', 'so', 've', 'my', 'of', 'myself', 'while', 'such', \"aren't\", 'i', \"wasn't\", 'haven', 'aren', 'it', 'who', \"that'll\", 'have', 'when', \"hadn't\", 'themselves', \"doesn't\", 'her', 'didn', 'been', 'o', 'how', 'can', 'whom', 'and', 'more', 'what', 'too', 'isn', 'again', \"needn't\", 'yourself', 'he', 'she', 'below', 'me', \"should've\", 'ma', 'couldn', 'about', 'into', 'needn', 'once', 'shouldn', 'a', \"wouldn't\", \"you're\", 'himself', 'if', 'out', 'yourselves', 'against', 'did', 'from', 'you', \"didn't\", 'just', 'they', 'than', 'being', 'does', 'ourselves', 'having', 'or', 'its', \"you'd\", 'won', 'them', 'each', 'up', 'ain', 'down', \"hasn't\", 'theirs', 'hasn', 'itself', 'this', 'with', 'any', 'we', 's', \"weren't\", 'where', 'not', 'at', \"she's\", 'further', 'ours', \"haven't\", 'm', 'to', \"mightn't\", \"you've\", 'very', 'y', \"you'll\", \"it's\", 'our', 'do', 'no', 'above', 'own', \"mustn't\", 'there', 'doing', \"shouldn't\", 'herself', 'during', 'because', 'be', 'him', 'few'}\n"
     ]
    }
   ],
   "source": [
    "stop_words = set(stopwords.words('english'))\n",
    "print(stop_words)"
   ]
  },
  {
   "cell_type": "code",
   "execution_count": 12,
   "metadata": {
    "colab": {
     "base_uri": "https://localhost:8080/",
     "height": 34
    },
    "id": "bTB_cGIStn00",
    "outputId": "68db19d0-e960-415e-8b9e-5800c90c701f"
   },
   "outputs": [
    {
     "name": "stdout",
     "output_type": "stream",
     "text": [
      "List of punctuations: !\"#$%&'()*+,-./:;<=>?@[\\]^_`{|}~\n"
     ]
    }
   ],
   "source": [
    "print(\"List of punctuations: \" + string.punctuation)\n",
    "\n",
    "#Clean column by removing punctuations and stopwords\n",
    "def clean_column(text):\n",
    "    '''\n",
    "    #Remove punctuations and stop words\n",
    "    words_array = return a character if the character is not in !\"#$%&'()*+,-./:;<=>?@[\\]^_`{|}~\n",
    "    no_stop_words_array = return word if it is not a stopword\n",
    "    '''\n",
    "    words_array = \"\".join([char for char in text if char not in string.punctuation])\n",
    "\n",
    "    tokens = re.split('\\W+', words_array)\n",
    "\n",
    "    no_stop_words_array = [word for word in tokens if word not in stop_words]\n",
    "\n",
    "    sentence = ' '.join(no_stop_words_array)\n",
    "    \n",
    "    return sentence"
   ]
  },
  {
   "cell_type": "code",
   "execution_count": 13,
   "metadata": {
    "id": "5-rxOLZDMjAH"
   },
   "outputs": [],
   "source": [
    "#Search for a keyword from text. If present return true, else return false\n",
    "def key_word_search(text, key_word):\n",
    "    if re.findall(key_word.lower(), text.lower()):\n",
    "        return True\n",
    "    else:\n",
    "        return False"
   ]
  },
  {
   "cell_type": "markdown",
   "metadata": {
    "id": "k-Ri12HCypYp"
   },
   "source": [
    "# Data cleaning"
   ]
  },
  {
   "cell_type": "code",
   "execution_count": 14,
   "metadata": {
    "colab": {
     "base_uri": "https://localhost:8080/",
     "height": 564
    },
    "id": "G95T-3CMvhQq",
    "outputId": "17e704ac-9fa0-40d4-d0d7-8713bff6ebfa"
   },
   "outputs": [
    {
     "name": "stderr",
     "output_type": "stream",
     "text": [
      "/Users/mourya/opt/anaconda3/lib/python3.7/site-packages/ipykernel_launcher.py:2: SettingWithCopyWarning: \n",
      "A value is trying to be set on a copy of a slice from a DataFrame.\n",
      "Try using .loc[row_indexer,col_indexer] = value instead\n",
      "\n",
      "See the caveats in the documentation: http://pandas.pydata.org/pandas-docs/stable/user_guide/indexing.html#returning-a-view-versus-a-copy\n",
      "  \n"
     ]
    },
    {
     "data": {
      "text/html": [
       "<div>\n",
       "<style scoped>\n",
       "    .dataframe tbody tr th:only-of-type {\n",
       "        vertical-align: middle;\n",
       "    }\n",
       "\n",
       "    .dataframe tbody tr th {\n",
       "        vertical-align: top;\n",
       "    }\n",
       "\n",
       "    .dataframe thead th {\n",
       "        text-align: right;\n",
       "    }\n",
       "</style>\n",
       "<table border=\"1\" class=\"dataframe\">\n",
       "  <thead>\n",
       "    <tr style=\"text-align: right;\">\n",
       "      <th></th>\n",
       "      <th>pageurl</th>\n",
       "      <th>crawl_timestamp</th>\n",
       "      <th>job_title</th>\n",
       "      <th>category</th>\n",
       "      <th>company_name</th>\n",
       "      <th>city</th>\n",
       "      <th>post_date</th>\n",
       "      <th>job_description</th>\n",
       "      <th>job_type</th>\n",
       "      <th>job_board</th>\n",
       "      <th>geo</th>\n",
       "      <th>state</th>\n",
       "      <th>salary_offered</th>\n",
       "      <th>cleaned_job_description</th>\n",
       "    </tr>\n",
       "  </thead>\n",
       "  <tbody>\n",
       "    <tr>\n",
       "      <td>0</td>\n",
       "      <td>https://www.seek.com.au/job/36028685</td>\n",
       "      <td>2018-04-20 03:57:04 +0000</td>\n",
       "      <td>Package Lead - Pipeline Installation</td>\n",
       "      <td>Mining, Resources &amp; Energy</td>\n",
       "      <td>FIRCROFT AUSTRALIA PTY LTD</td>\n",
       "      <td>Perth</td>\n",
       "      <td>2018-04-19T05:41:52Z</td>\n",
       "      <td>The Role: General Execution Accountable for sa...</td>\n",
       "      <td>Contract/Temp</td>\n",
       "      <td>seek</td>\n",
       "      <td>AU</td>\n",
       "      <td>NaN</td>\n",
       "      <td>NaN</td>\n",
       "      <td>role general execution accountable safe effici...</td>\n",
       "    </tr>\n",
       "    <tr>\n",
       "      <td>1</td>\n",
       "      <td>https://www.seek.com.au/job/36028693</td>\n",
       "      <td>2018-04-20 03:52:46 +0000</td>\n",
       "      <td>Department Manager - Bakery - Campbelltown Region</td>\n",
       "      <td>Retail &amp; Consumer Products</td>\n",
       "      <td>Coles</td>\n",
       "      <td>Sydney</td>\n",
       "      <td>2018-04-19T05:42:19Z</td>\n",
       "      <td>The role As a Coles Bakery Manager you will: w...</td>\n",
       "      <td>Full Time</td>\n",
       "      <td>seek</td>\n",
       "      <td>AU</td>\n",
       "      <td>South West &amp; M5 Corridor</td>\n",
       "      <td>NaN</td>\n",
       "      <td>role coles bakery manager work within local co...</td>\n",
       "    </tr>\n",
       "    <tr>\n",
       "      <td>2</td>\n",
       "      <td>https://www.seek.com.au/job/36027858</td>\n",
       "      <td>2018-04-20 04:12:01 +0000</td>\n",
       "      <td>Freight Handler</td>\n",
       "      <td>Manufacturing, Transport &amp; Logistics</td>\n",
       "      <td>Zoom Recruitment &amp; Training</td>\n",
       "      <td>Sydney</td>\n",
       "      <td>2018-04-19T04:51:51Z</td>\n",
       "      <td>Our client is a leader within the Transport / ...</td>\n",
       "      <td>Casual/Vacation</td>\n",
       "      <td>seek</td>\n",
       "      <td>AU</td>\n",
       "      <td>Parramatta &amp; Western Suburbs</td>\n",
       "      <td>$34 - $39 p.h.</td>\n",
       "      <td>client leader within transport distribution in...</td>\n",
       "    </tr>\n",
       "    <tr>\n",
       "      <td>3</td>\n",
       "      <td>https://www.seek.com.au/job/36028687</td>\n",
       "      <td>2018-04-20 03:51:23 +0000</td>\n",
       "      <td>Warehouse Assistant</td>\n",
       "      <td>Manufacturing, Transport &amp; Logistics</td>\n",
       "      <td>Private Advertiser</td>\n",
       "      <td>Bundaberg &amp; Wide Bay Burnett</td>\n",
       "      <td>2018-04-19T05:42:02Z</td>\n",
       "      <td>One of our Clients is looking for a Warehouse ...</td>\n",
       "      <td>Full Time</td>\n",
       "      <td>seek</td>\n",
       "      <td>AU</td>\n",
       "      <td>NaN</td>\n",
       "      <td>NaN</td>\n",
       "      <td>one clients looking warehouse assistant join t...</td>\n",
       "    </tr>\n",
       "    <tr>\n",
       "      <td>4</td>\n",
       "      <td>https://www.seek.com.au/job/36026414</td>\n",
       "      <td>2018-04-20 04:14:42 +0000</td>\n",
       "      <td>HR Truck Subcontractors</td>\n",
       "      <td>Manufacturing, Transport &amp; Logistics</td>\n",
       "      <td>Sands Fridge Lines</td>\n",
       "      <td>Perth</td>\n",
       "      <td>2018-04-19T03:22:40Z</td>\n",
       "      <td>Sands Fridge Lines WA is seeking Subcontractor...</td>\n",
       "      <td>Contract/Temp</td>\n",
       "      <td>seek</td>\n",
       "      <td>AU</td>\n",
       "      <td>NaN</td>\n",
       "      <td>NaN</td>\n",
       "      <td>sands fridge lines wa seeking subcontractors h...</td>\n",
       "    </tr>\n",
       "  </tbody>\n",
       "</table>\n",
       "</div>"
      ],
      "text/plain": [
       "                                pageurl            crawl_timestamp  \\\n",
       "0  https://www.seek.com.au/job/36028685  2018-04-20 03:57:04 +0000   \n",
       "1  https://www.seek.com.au/job/36028693  2018-04-20 03:52:46 +0000   \n",
       "2  https://www.seek.com.au/job/36027858  2018-04-20 04:12:01 +0000   \n",
       "3  https://www.seek.com.au/job/36028687  2018-04-20 03:51:23 +0000   \n",
       "4  https://www.seek.com.au/job/36026414  2018-04-20 04:14:42 +0000   \n",
       "\n",
       "                                           job_title  \\\n",
       "0               Package Lead - Pipeline Installation   \n",
       "1  Department Manager - Bakery - Campbelltown Region   \n",
       "2                                    Freight Handler   \n",
       "3                                Warehouse Assistant   \n",
       "4                            HR Truck Subcontractors   \n",
       "\n",
       "                               category                 company_name  \\\n",
       "0            Mining, Resources & Energy   FIRCROFT AUSTRALIA PTY LTD   \n",
       "1            Retail & Consumer Products                        Coles   \n",
       "2  Manufacturing, Transport & Logistics  Zoom Recruitment & Training   \n",
       "3  Manufacturing, Transport & Logistics           Private Advertiser   \n",
       "4  Manufacturing, Transport & Logistics           Sands Fridge Lines   \n",
       "\n",
       "                           city             post_date  \\\n",
       "0                         Perth  2018-04-19T05:41:52Z   \n",
       "1                        Sydney  2018-04-19T05:42:19Z   \n",
       "2                        Sydney  2018-04-19T04:51:51Z   \n",
       "3  Bundaberg & Wide Bay Burnett  2018-04-19T05:42:02Z   \n",
       "4                         Perth  2018-04-19T03:22:40Z   \n",
       "\n",
       "                                     job_description         job_type  \\\n",
       "0  The Role: General Execution Accountable for sa...    Contract/Temp   \n",
       "1  The role As a Coles Bakery Manager you will: w...        Full Time   \n",
       "2  Our client is a leader within the Transport / ...  Casual/Vacation   \n",
       "3  One of our Clients is looking for a Warehouse ...        Full Time   \n",
       "4  Sands Fridge Lines WA is seeking Subcontractor...    Contract/Temp   \n",
       "\n",
       "  job_board geo                         state  salary_offered  \\\n",
       "0      seek  AU                           NaN             NaN   \n",
       "1      seek  AU      South West & M5 Corridor             NaN   \n",
       "2      seek  AU  Parramatta & Western Suburbs  $34 - $39 p.h.   \n",
       "3      seek  AU                           NaN             NaN   \n",
       "4      seek  AU                           NaN             NaN   \n",
       "\n",
       "                             cleaned_job_description  \n",
       "0  role general execution accountable safe effici...  \n",
       "1  role coles bakery manager work within local co...  \n",
       "2  client leader within transport distribution in...  \n",
       "3  one clients looking warehouse assistant join t...  \n",
       "4  sands fridge lines wa seeking subcontractors h...  "
      ]
     },
     "execution_count": 14,
     "metadata": {},
     "output_type": "execute_result"
    }
   ],
   "source": [
    "#create a new column with the cleaned text\n",
    "new_df['cleaned_job_description'] = new_df['job_description'].apply(lambda x: clean_column(x.lower()))\n",
    "new_df.head()"
   ]
  },
  {
   "cell_type": "code",
   "execution_count": 15,
   "metadata": {
    "colab": {
     "base_uri": "https://localhost:8080/",
     "height": 564
    },
    "id": "Ae65cLTX7P7w",
    "outputId": "4cc6de38-4865-445b-8178-84360480463c"
   },
   "outputs": [
    {
     "name": "stderr",
     "output_type": "stream",
     "text": [
      "/Users/mourya/opt/anaconda3/lib/python3.7/site-packages/ipykernel_launcher.py:1: SettingWithCopyWarning: \n",
      "A value is trying to be set on a copy of a slice from a DataFrame.\n",
      "Try using .loc[row_indexer,col_indexer] = value instead\n",
      "\n",
      "See the caveats in the documentation: http://pandas.pydata.org/pandas-docs/stable/user_guide/indexing.html#returning-a-view-versus-a-copy\n",
      "  \"\"\"Entry point for launching an IPython kernel.\n"
     ]
    },
    {
     "data": {
      "text/html": [
       "<div>\n",
       "<style scoped>\n",
       "    .dataframe tbody tr th:only-of-type {\n",
       "        vertical-align: middle;\n",
       "    }\n",
       "\n",
       "    .dataframe tbody tr th {\n",
       "        vertical-align: top;\n",
       "    }\n",
       "\n",
       "    .dataframe thead th {\n",
       "        text-align: right;\n",
       "    }\n",
       "</style>\n",
       "<table border=\"1\" class=\"dataframe\">\n",
       "  <thead>\n",
       "    <tr style=\"text-align: right;\">\n",
       "      <th></th>\n",
       "      <th>pageurl</th>\n",
       "      <th>crawl_timestamp</th>\n",
       "      <th>job_title</th>\n",
       "      <th>category</th>\n",
       "      <th>company_name</th>\n",
       "      <th>city</th>\n",
       "      <th>post_date</th>\n",
       "      <th>job_description</th>\n",
       "      <th>job_type</th>\n",
       "      <th>job_board</th>\n",
       "      <th>geo</th>\n",
       "      <th>state</th>\n",
       "      <th>salary_offered</th>\n",
       "      <th>cleaned_job_description</th>\n",
       "      <th>skill_word_present</th>\n",
       "    </tr>\n",
       "  </thead>\n",
       "  <tbody>\n",
       "    <tr>\n",
       "      <td>0</td>\n",
       "      <td>https://www.seek.com.au/job/36028685</td>\n",
       "      <td>2018-04-20 03:57:04 +0000</td>\n",
       "      <td>Package Lead - Pipeline Installation</td>\n",
       "      <td>Mining, Resources &amp; Energy</td>\n",
       "      <td>FIRCROFT AUSTRALIA PTY LTD</td>\n",
       "      <td>Perth</td>\n",
       "      <td>2018-04-19T05:41:52Z</td>\n",
       "      <td>The Role: General Execution Accountable for sa...</td>\n",
       "      <td>Contract/Temp</td>\n",
       "      <td>seek</td>\n",
       "      <td>AU</td>\n",
       "      <td>NaN</td>\n",
       "      <td>NaN</td>\n",
       "      <td>role general execution accountable safe effici...</td>\n",
       "      <td>False</td>\n",
       "    </tr>\n",
       "    <tr>\n",
       "      <td>1</td>\n",
       "      <td>https://www.seek.com.au/job/36028693</td>\n",
       "      <td>2018-04-20 03:52:46 +0000</td>\n",
       "      <td>Department Manager - Bakery - Campbelltown Region</td>\n",
       "      <td>Retail &amp; Consumer Products</td>\n",
       "      <td>Coles</td>\n",
       "      <td>Sydney</td>\n",
       "      <td>2018-04-19T05:42:19Z</td>\n",
       "      <td>The role As a Coles Bakery Manager you will: w...</td>\n",
       "      <td>Full Time</td>\n",
       "      <td>seek</td>\n",
       "      <td>AU</td>\n",
       "      <td>South West &amp; M5 Corridor</td>\n",
       "      <td>NaN</td>\n",
       "      <td>role coles bakery manager work within local co...</td>\n",
       "      <td>True</td>\n",
       "    </tr>\n",
       "    <tr>\n",
       "      <td>2</td>\n",
       "      <td>https://www.seek.com.au/job/36027858</td>\n",
       "      <td>2018-04-20 04:12:01 +0000</td>\n",
       "      <td>Freight Handler</td>\n",
       "      <td>Manufacturing, Transport &amp; Logistics</td>\n",
       "      <td>Zoom Recruitment &amp; Training</td>\n",
       "      <td>Sydney</td>\n",
       "      <td>2018-04-19T04:51:51Z</td>\n",
       "      <td>Our client is a leader within the Transport / ...</td>\n",
       "      <td>Casual/Vacation</td>\n",
       "      <td>seek</td>\n",
       "      <td>AU</td>\n",
       "      <td>Parramatta &amp; Western Suburbs</td>\n",
       "      <td>$34 - $39 p.h.</td>\n",
       "      <td>client leader within transport distribution in...</td>\n",
       "      <td>False</td>\n",
       "    </tr>\n",
       "    <tr>\n",
       "      <td>3</td>\n",
       "      <td>https://www.seek.com.au/job/36028687</td>\n",
       "      <td>2018-04-20 03:51:23 +0000</td>\n",
       "      <td>Warehouse Assistant</td>\n",
       "      <td>Manufacturing, Transport &amp; Logistics</td>\n",
       "      <td>Private Advertiser</td>\n",
       "      <td>Bundaberg &amp; Wide Bay Burnett</td>\n",
       "      <td>2018-04-19T05:42:02Z</td>\n",
       "      <td>One of our Clients is looking for a Warehouse ...</td>\n",
       "      <td>Full Time</td>\n",
       "      <td>seek</td>\n",
       "      <td>AU</td>\n",
       "      <td>NaN</td>\n",
       "      <td>NaN</td>\n",
       "      <td>one clients looking warehouse assistant join t...</td>\n",
       "      <td>True</td>\n",
       "    </tr>\n",
       "    <tr>\n",
       "      <td>4</td>\n",
       "      <td>https://www.seek.com.au/job/36026414</td>\n",
       "      <td>2018-04-20 04:14:42 +0000</td>\n",
       "      <td>HR Truck Subcontractors</td>\n",
       "      <td>Manufacturing, Transport &amp; Logistics</td>\n",
       "      <td>Sands Fridge Lines</td>\n",
       "      <td>Perth</td>\n",
       "      <td>2018-04-19T03:22:40Z</td>\n",
       "      <td>Sands Fridge Lines WA is seeking Subcontractor...</td>\n",
       "      <td>Contract/Temp</td>\n",
       "      <td>seek</td>\n",
       "      <td>AU</td>\n",
       "      <td>NaN</td>\n",
       "      <td>NaN</td>\n",
       "      <td>sands fridge lines wa seeking subcontractors h...</td>\n",
       "      <td>False</td>\n",
       "    </tr>\n",
       "  </tbody>\n",
       "</table>\n",
       "</div>"
      ],
      "text/plain": [
       "                                pageurl            crawl_timestamp  \\\n",
       "0  https://www.seek.com.au/job/36028685  2018-04-20 03:57:04 +0000   \n",
       "1  https://www.seek.com.au/job/36028693  2018-04-20 03:52:46 +0000   \n",
       "2  https://www.seek.com.au/job/36027858  2018-04-20 04:12:01 +0000   \n",
       "3  https://www.seek.com.au/job/36028687  2018-04-20 03:51:23 +0000   \n",
       "4  https://www.seek.com.au/job/36026414  2018-04-20 04:14:42 +0000   \n",
       "\n",
       "                                           job_title  \\\n",
       "0               Package Lead - Pipeline Installation   \n",
       "1  Department Manager - Bakery - Campbelltown Region   \n",
       "2                                    Freight Handler   \n",
       "3                                Warehouse Assistant   \n",
       "4                            HR Truck Subcontractors   \n",
       "\n",
       "                               category                 company_name  \\\n",
       "0            Mining, Resources & Energy   FIRCROFT AUSTRALIA PTY LTD   \n",
       "1            Retail & Consumer Products                        Coles   \n",
       "2  Manufacturing, Transport & Logistics  Zoom Recruitment & Training   \n",
       "3  Manufacturing, Transport & Logistics           Private Advertiser   \n",
       "4  Manufacturing, Transport & Logistics           Sands Fridge Lines   \n",
       "\n",
       "                           city             post_date  \\\n",
       "0                         Perth  2018-04-19T05:41:52Z   \n",
       "1                        Sydney  2018-04-19T05:42:19Z   \n",
       "2                        Sydney  2018-04-19T04:51:51Z   \n",
       "3  Bundaberg & Wide Bay Burnett  2018-04-19T05:42:02Z   \n",
       "4                         Perth  2018-04-19T03:22:40Z   \n",
       "\n",
       "                                     job_description         job_type  \\\n",
       "0  The Role: General Execution Accountable for sa...    Contract/Temp   \n",
       "1  The role As a Coles Bakery Manager you will: w...        Full Time   \n",
       "2  Our client is a leader within the Transport / ...  Casual/Vacation   \n",
       "3  One of our Clients is looking for a Warehouse ...        Full Time   \n",
       "4  Sands Fridge Lines WA is seeking Subcontractor...    Contract/Temp   \n",
       "\n",
       "  job_board geo                         state  salary_offered  \\\n",
       "0      seek  AU                           NaN             NaN   \n",
       "1      seek  AU      South West & M5 Corridor             NaN   \n",
       "2      seek  AU  Parramatta & Western Suburbs  $34 - $39 p.h.   \n",
       "3      seek  AU                           NaN             NaN   \n",
       "4      seek  AU                           NaN             NaN   \n",
       "\n",
       "                             cleaned_job_description  skill_word_present  \n",
       "0  role general execution accountable safe effici...               False  \n",
       "1  role coles bakery manager work within local co...                True  \n",
       "2  client leader within transport distribution in...               False  \n",
       "3  one clients looking warehouse assistant join t...                True  \n",
       "4  sands fridge lines wa seeking subcontractors h...               False  "
      ]
     },
     "execution_count": 15,
     "metadata": {},
     "output_type": "execute_result"
    }
   ],
   "source": [
    "new_df['skill_word_present'] = new_df['cleaned_job_description'].apply(lambda x: key_word_search(x, 'look'))\n",
    "new_df.head()"
   ]
  },
  {
   "cell_type": "code",
   "execution_count": 16,
   "metadata": {
    "colab": {
     "base_uri": "https://localhost:8080/",
     "height": 68
    },
    "id": "hO_V-pXmO53N",
    "outputId": "f5daf6e8-e438-4063-d5e4-31d3daf1da18"
   },
   "outputs": [
    {
     "data": {
      "text/plain": [
       "False    2577\n",
       "True     2148\n",
       "Name: skill_word_present, dtype: int64"
      ]
     },
     "execution_count": 16,
     "metadata": {},
     "output_type": "execute_result"
    }
   ],
   "source": [
    "new_df['skill_word_present'].value_counts()"
   ]
  },
  {
   "cell_type": "code",
   "execution_count": 18,
   "metadata": {},
   "outputs": [],
   "source": [
    "a = new_df[:10]"
   ]
  },
  {
   "cell_type": "code",
   "execution_count": 19,
   "metadata": {},
   "outputs": [
    {
     "data": {
      "text/html": [
       "<div>\n",
       "<style scoped>\n",
       "    .dataframe tbody tr th:only-of-type {\n",
       "        vertical-align: middle;\n",
       "    }\n",
       "\n",
       "    .dataframe tbody tr th {\n",
       "        vertical-align: top;\n",
       "    }\n",
       "\n",
       "    .dataframe thead th {\n",
       "        text-align: right;\n",
       "    }\n",
       "</style>\n",
       "<table border=\"1\" class=\"dataframe\">\n",
       "  <thead>\n",
       "    <tr style=\"text-align: right;\">\n",
       "      <th></th>\n",
       "      <th>pageurl</th>\n",
       "      <th>crawl_timestamp</th>\n",
       "      <th>job_title</th>\n",
       "      <th>category</th>\n",
       "      <th>company_name</th>\n",
       "      <th>city</th>\n",
       "      <th>post_date</th>\n",
       "      <th>job_description</th>\n",
       "      <th>job_type</th>\n",
       "      <th>job_board</th>\n",
       "      <th>geo</th>\n",
       "      <th>state</th>\n",
       "      <th>salary_offered</th>\n",
       "      <th>cleaned_job_description</th>\n",
       "      <th>skill_word_present</th>\n",
       "    </tr>\n",
       "  </thead>\n",
       "  <tbody>\n",
       "    <tr>\n",
       "      <td>0</td>\n",
       "      <td>https://www.seek.com.au/job/36028685</td>\n",
       "      <td>2018-04-20 03:57:04 +0000</td>\n",
       "      <td>Package Lead - Pipeline Installation</td>\n",
       "      <td>Mining, Resources &amp; Energy</td>\n",
       "      <td>FIRCROFT AUSTRALIA PTY LTD</td>\n",
       "      <td>Perth</td>\n",
       "      <td>2018-04-19T05:41:52Z</td>\n",
       "      <td>The Role: General Execution Accountable for sa...</td>\n",
       "      <td>Contract/Temp</td>\n",
       "      <td>seek</td>\n",
       "      <td>AU</td>\n",
       "      <td>NaN</td>\n",
       "      <td>NaN</td>\n",
       "      <td>role general execution accountable safe effici...</td>\n",
       "      <td>False</td>\n",
       "    </tr>\n",
       "    <tr>\n",
       "      <td>1</td>\n",
       "      <td>https://www.seek.com.au/job/36028693</td>\n",
       "      <td>2018-04-20 03:52:46 +0000</td>\n",
       "      <td>Department Manager - Bakery - Campbelltown Region</td>\n",
       "      <td>Retail &amp; Consumer Products</td>\n",
       "      <td>Coles</td>\n",
       "      <td>Sydney</td>\n",
       "      <td>2018-04-19T05:42:19Z</td>\n",
       "      <td>The role As a Coles Bakery Manager you will: w...</td>\n",
       "      <td>Full Time</td>\n",
       "      <td>seek</td>\n",
       "      <td>AU</td>\n",
       "      <td>South West &amp; M5 Corridor</td>\n",
       "      <td>NaN</td>\n",
       "      <td>role coles bakery manager work within local co...</td>\n",
       "      <td>True</td>\n",
       "    </tr>\n",
       "    <tr>\n",
       "      <td>2</td>\n",
       "      <td>https://www.seek.com.au/job/36027858</td>\n",
       "      <td>2018-04-20 04:12:01 +0000</td>\n",
       "      <td>Freight Handler</td>\n",
       "      <td>Manufacturing, Transport &amp; Logistics</td>\n",
       "      <td>Zoom Recruitment &amp; Training</td>\n",
       "      <td>Sydney</td>\n",
       "      <td>2018-04-19T04:51:51Z</td>\n",
       "      <td>Our client is a leader within the Transport / ...</td>\n",
       "      <td>Casual/Vacation</td>\n",
       "      <td>seek</td>\n",
       "      <td>AU</td>\n",
       "      <td>Parramatta &amp; Western Suburbs</td>\n",
       "      <td>$34 - $39 p.h.</td>\n",
       "      <td>client leader within transport distribution in...</td>\n",
       "      <td>False</td>\n",
       "    </tr>\n",
       "    <tr>\n",
       "      <td>3</td>\n",
       "      <td>https://www.seek.com.au/job/36028687</td>\n",
       "      <td>2018-04-20 03:51:23 +0000</td>\n",
       "      <td>Warehouse Assistant</td>\n",
       "      <td>Manufacturing, Transport &amp; Logistics</td>\n",
       "      <td>Private Advertiser</td>\n",
       "      <td>Bundaberg &amp; Wide Bay Burnett</td>\n",
       "      <td>2018-04-19T05:42:02Z</td>\n",
       "      <td>One of our Clients is looking for a Warehouse ...</td>\n",
       "      <td>Full Time</td>\n",
       "      <td>seek</td>\n",
       "      <td>AU</td>\n",
       "      <td>NaN</td>\n",
       "      <td>NaN</td>\n",
       "      <td>one clients looking warehouse assistant join t...</td>\n",
       "      <td>True</td>\n",
       "    </tr>\n",
       "    <tr>\n",
       "      <td>4</td>\n",
       "      <td>https://www.seek.com.au/job/36026414</td>\n",
       "      <td>2018-04-20 04:14:42 +0000</td>\n",
       "      <td>HR Truck Subcontractors</td>\n",
       "      <td>Manufacturing, Transport &amp; Logistics</td>\n",
       "      <td>Sands Fridge Lines</td>\n",
       "      <td>Perth</td>\n",
       "      <td>2018-04-19T03:22:40Z</td>\n",
       "      <td>Sands Fridge Lines WA is seeking Subcontractor...</td>\n",
       "      <td>Contract/Temp</td>\n",
       "      <td>seek</td>\n",
       "      <td>AU</td>\n",
       "      <td>NaN</td>\n",
       "      <td>NaN</td>\n",
       "      <td>sands fridge lines wa seeking subcontractors h...</td>\n",
       "      <td>False</td>\n",
       "    </tr>\n",
       "    <tr>\n",
       "      <td>5</td>\n",
       "      <td>https://www.seek.com.au/job/36027190</td>\n",
       "      <td>2018-04-20 04:05:15 +0000</td>\n",
       "      <td>Administrative Officer, Education unit</td>\n",
       "      <td>Administration &amp; Office Support</td>\n",
       "      <td>ANZCA</td>\n",
       "      <td>Melbourne</td>\n",
       "      <td>2018-04-19T04:11:11Z</td>\n",
       "      <td>Maternity leave contract ending May 2019 Full ...</td>\n",
       "      <td>Contract/Temp</td>\n",
       "      <td>seek</td>\n",
       "      <td>AU</td>\n",
       "      <td>CBD &amp; Inner Suburbs</td>\n",
       "      <td>NaN</td>\n",
       "      <td>maternity leave contract ending may 2019 full ...</td>\n",
       "      <td>True</td>\n",
       "    </tr>\n",
       "    <tr>\n",
       "      <td>6</td>\n",
       "      <td>https://www.seek.com.au/job/36028057</td>\n",
       "      <td>2018-04-20 03:51:41 +0000</td>\n",
       "      <td>Traffic Controller - Sunshine Coast</td>\n",
       "      <td>Construction</td>\n",
       "      <td>Evolution Traffic Control</td>\n",
       "      <td>Sunshine Coast</td>\n",
       "      <td>2018-04-19T05:04:32Z</td>\n",
       "      <td>Opportunity to earn up to $65,000 per annum in...</td>\n",
       "      <td>Casual/Vacation</td>\n",
       "      <td>seek</td>\n",
       "      <td>AU</td>\n",
       "      <td>NaN</td>\n",
       "      <td>NaN</td>\n",
       "      <td>opportunity earn 65000 per annum including sup...</td>\n",
       "      <td>True</td>\n",
       "    </tr>\n",
       "    <tr>\n",
       "      <td>7</td>\n",
       "      <td>https://www.seek.com.au/job/36028164</td>\n",
       "      <td>2018-04-20 03:45:12 +0000</td>\n",
       "      <td>Mortgage Broker Assistant</td>\n",
       "      <td>Banking &amp; Financial Services</td>\n",
       "      <td>Howitt Partners</td>\n",
       "      <td>Melbourne</td>\n",
       "      <td>2018-04-19T05:11:49Z</td>\n",
       "      <td>Small but busy and very successful mortgage br...</td>\n",
       "      <td>Part Time</td>\n",
       "      <td>seek</td>\n",
       "      <td>AU</td>\n",
       "      <td>CBD &amp; Inner Suburbs</td>\n",
       "      <td>$20 - $29.99 per hour</td>\n",
       "      <td>small busy successful mortgage broking busines...</td>\n",
       "      <td>False</td>\n",
       "    </tr>\n",
       "    <tr>\n",
       "      <td>8</td>\n",
       "      <td>https://www.seek.com.au/job/36025868</td>\n",
       "      <td>2018-04-20 04:31:05 +0000</td>\n",
       "      <td>Manager Violence Abuse and Neglect</td>\n",
       "      <td>Healthcare &amp; Medical</td>\n",
       "      <td>Hunter New England Local Health District</td>\n",
       "      <td>Melbourne</td>\n",
       "      <td>2018-04-19T02:38:34Z</td>\n",
       "      <td>Employment Type: Permanent Full Time Position ...</td>\n",
       "      <td>Full Time</td>\n",
       "      <td>seek</td>\n",
       "      <td>AU</td>\n",
       "      <td>CBD &amp; Inner Suburbs</td>\n",
       "      <td>NaN</td>\n",
       "      <td>employment type permanent full time position c...</td>\n",
       "      <td>False</td>\n",
       "    </tr>\n",
       "    <tr>\n",
       "      <td>9</td>\n",
       "      <td>https://www.seek.com.au/job/36026088</td>\n",
       "      <td>2018-04-20 04:25:11 +0000</td>\n",
       "      <td>Mortgage Broker</td>\n",
       "      <td>Banking &amp; Financial Services</td>\n",
       "      <td>Private Advertiser</td>\n",
       "      <td>Melbourne</td>\n",
       "      <td>2018-04-19T02:53:23Z</td>\n",
       "      <td>If you are in the mortgage brokering industry ...</td>\n",
       "      <td>Full Time</td>\n",
       "      <td>seek</td>\n",
       "      <td>AU</td>\n",
       "      <td>NaN</td>\n",
       "      <td>$70,000 - $89,999 base plus commission</td>\n",
       "      <td>mortgage brokering industry want leads provide...</td>\n",
       "      <td>False</td>\n",
       "    </tr>\n",
       "  </tbody>\n",
       "</table>\n",
       "</div>"
      ],
      "text/plain": [
       "                                pageurl            crawl_timestamp  \\\n",
       "0  https://www.seek.com.au/job/36028685  2018-04-20 03:57:04 +0000   \n",
       "1  https://www.seek.com.au/job/36028693  2018-04-20 03:52:46 +0000   \n",
       "2  https://www.seek.com.au/job/36027858  2018-04-20 04:12:01 +0000   \n",
       "3  https://www.seek.com.au/job/36028687  2018-04-20 03:51:23 +0000   \n",
       "4  https://www.seek.com.au/job/36026414  2018-04-20 04:14:42 +0000   \n",
       "5  https://www.seek.com.au/job/36027190  2018-04-20 04:05:15 +0000   \n",
       "6  https://www.seek.com.au/job/36028057  2018-04-20 03:51:41 +0000   \n",
       "7  https://www.seek.com.au/job/36028164  2018-04-20 03:45:12 +0000   \n",
       "8  https://www.seek.com.au/job/36025868  2018-04-20 04:31:05 +0000   \n",
       "9  https://www.seek.com.au/job/36026088  2018-04-20 04:25:11 +0000   \n",
       "\n",
       "                                           job_title  \\\n",
       "0               Package Lead - Pipeline Installation   \n",
       "1  Department Manager - Bakery - Campbelltown Region   \n",
       "2                                    Freight Handler   \n",
       "3                                Warehouse Assistant   \n",
       "4                            HR Truck Subcontractors   \n",
       "5             Administrative Officer, Education unit   \n",
       "6                Traffic Controller - Sunshine Coast   \n",
       "7                          Mortgage Broker Assistant   \n",
       "8                 Manager Violence Abuse and Neglect   \n",
       "9                                    Mortgage Broker   \n",
       "\n",
       "                               category  \\\n",
       "0            Mining, Resources & Energy   \n",
       "1            Retail & Consumer Products   \n",
       "2  Manufacturing, Transport & Logistics   \n",
       "3  Manufacturing, Transport & Logistics   \n",
       "4  Manufacturing, Transport & Logistics   \n",
       "5       Administration & Office Support   \n",
       "6                          Construction   \n",
       "7          Banking & Financial Services   \n",
       "8                  Healthcare & Medical   \n",
       "9          Banking & Financial Services   \n",
       "\n",
       "                               company_name                          city  \\\n",
       "0                FIRCROFT AUSTRALIA PTY LTD                         Perth   \n",
       "1                                     Coles                        Sydney   \n",
       "2               Zoom Recruitment & Training                        Sydney   \n",
       "3                        Private Advertiser  Bundaberg & Wide Bay Burnett   \n",
       "4                        Sands Fridge Lines                         Perth   \n",
       "5                                     ANZCA                     Melbourne   \n",
       "6                 Evolution Traffic Control                Sunshine Coast   \n",
       "7                           Howitt Partners                     Melbourne   \n",
       "8  Hunter New England Local Health District                     Melbourne   \n",
       "9                        Private Advertiser                     Melbourne   \n",
       "\n",
       "              post_date                                    job_description  \\\n",
       "0  2018-04-19T05:41:52Z  The Role: General Execution Accountable for sa...   \n",
       "1  2018-04-19T05:42:19Z  The role As a Coles Bakery Manager you will: w...   \n",
       "2  2018-04-19T04:51:51Z  Our client is a leader within the Transport / ...   \n",
       "3  2018-04-19T05:42:02Z  One of our Clients is looking for a Warehouse ...   \n",
       "4  2018-04-19T03:22:40Z  Sands Fridge Lines WA is seeking Subcontractor...   \n",
       "5  2018-04-19T04:11:11Z  Maternity leave contract ending May 2019 Full ...   \n",
       "6  2018-04-19T05:04:32Z  Opportunity to earn up to $65,000 per annum in...   \n",
       "7  2018-04-19T05:11:49Z  Small but busy and very successful mortgage br...   \n",
       "8  2018-04-19T02:38:34Z  Employment Type: Permanent Full Time Position ...   \n",
       "9  2018-04-19T02:53:23Z  If you are in the mortgage brokering industry ...   \n",
       "\n",
       "          job_type job_board geo                         state  \\\n",
       "0    Contract/Temp      seek  AU                           NaN   \n",
       "1        Full Time      seek  AU      South West & M5 Corridor   \n",
       "2  Casual/Vacation      seek  AU  Parramatta & Western Suburbs   \n",
       "3        Full Time      seek  AU                           NaN   \n",
       "4    Contract/Temp      seek  AU                           NaN   \n",
       "5    Contract/Temp      seek  AU           CBD & Inner Suburbs   \n",
       "6  Casual/Vacation      seek  AU                           NaN   \n",
       "7        Part Time      seek  AU           CBD & Inner Suburbs   \n",
       "8        Full Time      seek  AU           CBD & Inner Suburbs   \n",
       "9        Full Time      seek  AU                           NaN   \n",
       "\n",
       "                           salary_offered  \\\n",
       "0                                     NaN   \n",
       "1                                     NaN   \n",
       "2                          $34 - $39 p.h.   \n",
       "3                                     NaN   \n",
       "4                                     NaN   \n",
       "5                                     NaN   \n",
       "6                                     NaN   \n",
       "7                   $20 - $29.99 per hour   \n",
       "8                                     NaN   \n",
       "9  $70,000 - $89,999 base plus commission   \n",
       "\n",
       "                             cleaned_job_description  skill_word_present  \n",
       "0  role general execution accountable safe effici...               False  \n",
       "1  role coles bakery manager work within local co...                True  \n",
       "2  client leader within transport distribution in...               False  \n",
       "3  one clients looking warehouse assistant join t...                True  \n",
       "4  sands fridge lines wa seeking subcontractors h...               False  \n",
       "5  maternity leave contract ending may 2019 full ...                True  \n",
       "6  opportunity earn 65000 per annum including sup...                True  \n",
       "7  small busy successful mortgage broking busines...               False  \n",
       "8  employment type permanent full time position c...               False  \n",
       "9  mortgage brokering industry want leads provide...               False  "
      ]
     },
     "execution_count": 19,
     "metadata": {},
     "output_type": "execute_result"
    }
   ],
   "source": [
    "a"
   ]
  },
  {
   "cell_type": "code",
   "execution_count": 17,
   "metadata": {
    "colab": {
     "base_uri": "https://localhost:8080/",
     "height": 187
    },
    "id": "EnhrkTuLk7gJ",
    "outputId": "4ac071d2-a17e-4413-a03f-d9a4069e3e38"
   },
   "outputs": [
    {
     "name": "stderr",
     "output_type": "stream",
     "text": [
      "IOPub data rate exceeded.\n",
      "The notebook server will temporarily stop sending output\n",
      "to the client in order to avoid crashing it.\n",
      "To change this limit, set the config variable\n",
      "`--NotebookApp.iopub_data_rate_limit`.\n",
      "\n",
      "Current values:\n",
      "NotebookApp.iopub_data_rate_limit=1000000.0 (bytes/sec)\n",
      "NotebookApp.rate_limit_window=3.0 (secs)\n",
      "\n"
     ]
    }
   ],
   "source": [
    "import nltk\n",
    "from sklearn.feature_extraction.text import CountVectorizer\n",
    "\n",
    "ngram_vect = CountVectorizer(ngram_range=(2,2))\n",
    "x_counts = ngram_vect.fit_transform(new_df['cleaned_job_description'])\n",
    "print(ngram_vect.get_feature_names())\n",
    "print(x_counts.shape)"
   ]
  },
  {
   "cell_type": "code",
   "execution_count": null,
   "metadata": {
    "id": "PGZ9j4GjudMF"
   },
   "outputs": [],
   "source": []
  }
 ],
 "metadata": {
  "colab": {
   "collapsed_sections": [],
   "name": "EDA_Clean.ipynb",
   "provenance": []
  },
  "kernelspec": {
   "display_name": "Python 3",
   "language": "python",
   "name": "python3"
  },
  "language_info": {
   "codemirror_mode": {
    "name": "ipython",
    "version": 3
   },
   "file_extension": ".py",
   "mimetype": "text/x-python",
   "name": "python",
   "nbconvert_exporter": "python",
   "pygments_lexer": "ipython3",
   "version": "3.7.4"
  }
 },
 "nbformat": 4,
 "nbformat_minor": 1
}
